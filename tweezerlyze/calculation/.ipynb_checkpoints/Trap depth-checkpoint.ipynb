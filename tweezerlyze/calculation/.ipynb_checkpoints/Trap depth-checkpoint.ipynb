{
 "cells": [
  {
   "cell_type": "code",
   "execution_count": null,
   "metadata": {
    "colab": {},
    "colab_type": "code",
    "id": "D-fZW6v2Fqlv"
   },
   "outputs": [],
   "source": [
    "import numpy as np\n",
    "import matplotlib.pyplot as plt\n",
    "import scipy.constants as cnst"
   ]
  },
  {
   "cell_type": "markdown",
   "metadata": {
    "colab_type": "text",
    "id": "cXioJ7hZFqm5"
   },
   "source": [
    "Constants for Cesium:"
   ]
  },
  {
   "cell_type": "code",
   "execution_count": null,
   "metadata": {
    "colab": {},
    "colab_type": "code",
    "id": "eJACp-iDFqnT"
   },
   "outputs": [],
   "source": [
    "Gamma_D2 = 2*np.pi*5.234e6 #Hz, From Steck Cesium Data\n",
    "Gamma_D1 = 2*np.pi*4.575e6 #Hz, From Steck Cesium Data\n",
    "I_sat = 1.6573*10 #W/m^2, for D2 far-detuned\n",
    "I_sat_cycl = 1.102*10 #W/m^2, for D2 far-detuned\n",
    "\n",
    "l_D2 = 852.34727582e-9#in m\n",
    "l_D1 = 894.59295986e-9\n",
    "m =2.20694657e-25"
   ]
  },
  {
   "cell_type": "code",
   "execution_count": null,
   "metadata": {
    "colab": {},
    "colab_type": "code",
    "id": "VSVb6sSyFqoX"
   },
   "outputs": [],
   "source": [
    "#Z lattice:\n",
    "l_trap = 780e-9#in m\n",
    "l_period = 7e-6 #in m\n",
    "delta = 2*np.pi*cnst.c*(1/l_trap - 1/l_D2)\n",
    "P = 1#total power\n",
    "P_dt = 5\n",
    "waist = 0.100e-3 #in m\n",
    "I = 2*P/(np.pi*waist**2)\n",
    "\n",
    "#Dipole trap:\n",
    "l_dt = 1064e-9\n",
    "delta_dt = -2*np.pi*cnst.c*(1/l_dt - 1/l_D2)\n",
    "waist_dt = 50e-6\n",
    "I_dt = 2*P_dt/(np.pi*waist_dt**2)"
   ]
  },
  {
   "cell_type": "markdown",
   "metadata": {
    "colab_type": "text",
    "id": "3mmkw8FCFqot"
   },
   "source": [
    "The trap depth in terms of light intensity: $U = \\hbar \\Gamma \\frac{\\Gamma}{8\\delta}\\frac{I}{I_{\\text{sat}}}$"
   ]
  },
  {
   "cell_type": "code",
   "execution_count": null,
   "metadata": {
    "colab": {},
    "colab_type": "code",
    "id": "7FMgbtTIFqpQ"
   },
   "outputs": [],
   "source": [
    "U_lattice = (Gamma_D2/(2*np.pi))*(Gamma_D2/(8*delta))*(2*I/I_sat)#U/h"
   ]
  },
  {
   "cell_type": "code",
   "execution_count": null,
   "metadata": {
    "colab": {},
    "colab_type": "code",
    "id": "gTp2HqpUFqp9"
   },
   "outputs": [],
   "source": [
    "U_cycling = (Gamma_D2/(2*np.pi))*(Gamma_D2/(8*delta))*(I/I_sat_cycl)#U/h"
   ]
  },
  {
   "cell_type": "code",
   "execution_count": null,
   "metadata": {
    "colab": {},
    "colab_type": "code",
    "id": "7dDJqrH0Fqqa"
   },
   "outputs": [],
   "source": [
    "U_dt = (Gamma_D2/(2*np.pi))*(Gamma_D2/(8*delta_dt))*(I_dt/I_sat)#U/h"
   ]
  },
  {
   "cell_type": "code",
   "execution_count": null,
   "metadata": {
    "colab": {},
    "colab_type": "code",
    "id": "rd-P2eW7Fqqx",
    "outputId": "e1982cfb-ccbc-463b-d4de-1a2cfa849f93"
   },
   "outputs": [
    {
     "data": {
      "text/plain": [
       "0.8064078232304506"
      ]
     },
     "execution_count": 46,
     "metadata": {
      "tags": []
     },
     "output_type": "execute_result"
    }
   ],
   "source": [
    "U_lattice/1e6 #In MHz"
   ]
  },
  {
   "cell_type": "code",
   "execution_count": null,
   "metadata": {
    "colab": {},
    "colab_type": "code",
    "id": "qWDceP6VFqrS",
    "outputId": "52bb6f0f-5c0f-46d3-8273-273f18a0d29f"
   },
   "outputs": [
    {
     "data": {
      "text/plain": [
       "3.760105909618966"
      ]
     },
     "execution_count": 47,
     "metadata": {
      "tags": []
     },
     "output_type": "execute_result"
    }
   ],
   "source": [
    "U_dt/1e6 #In MHz"
   ]
  },
  {
   "cell_type": "code",
   "execution_count": null,
   "metadata": {
    "colab": {},
    "colab_type": "code",
    "id": "rMtsnbYbFqrl",
    "outputId": "d2e255fe-ac66-4fc6-b775-1edf077c0111"
   },
   "outputs": [
    {
     "data": {
      "text/plain": [
       "0.6063791676224255"
      ]
     },
     "execution_count": 48,
     "metadata": {
      "tags": []
     },
     "output_type": "execute_result"
    }
   ],
   "source": [
    "U_cycling/1e6 #In MHz"
   ]
  },
  {
   "cell_type": "markdown",
   "metadata": {
    "colab_type": "text",
    "id": "HrBqfvJzFqr9"
   },
   "source": [
    "The lattice has a form: $U_0 \\sin^2 (\\pi x/l_p)$ where $l_p$ is the lattice period. Around the minimum, this is $\\sim \\pi U_0 x^2/l_p^2$. To get the effective trap frequency equate this to $\\frac{1}{2}m \\omega_t^2 x^2$. Therefore $\\omega_t^2 = 2\\pi U_0 / m l_p^2$"
   ]
  },
  {
   "cell_type": "code",
   "execution_count": null,
   "metadata": {
    "colab": {},
    "colab_type": "code",
    "id": "DDrBM1mLFqsC"
   },
   "outputs": [],
   "source": [
    "omega_t = np.sqrt(2*np.pi*U_lattice*cnst.h/(m*l_trap**2))"
   ]
  },
  {
   "cell_type": "code",
   "execution_count": null,
   "metadata": {
    "colab": {},
    "colab_type": "code",
    "id": "4KPWql3wFqsT",
    "outputId": "ff8d3d3c-3cae-4471-e833-8898debd6039",
    "scrolled": true
   },
   "outputs": [
    {
     "data": {
      "text/plain": [
       "158.1265513240432"
      ]
     },
     "execution_count": 50,
     "metadata": {
      "tags": []
     },
     "output_type": "execute_result"
    }
   ],
   "source": [
    "omega_t/1e3"
   ]
  },
  {
   "cell_type": "markdown",
   "metadata": {
    "colab_type": "text",
    "id": "0tKSQh5tFqso"
   },
   "source": [
    "### A more careful calculation"
   ]
  },
  {
   "cell_type": "markdown",
   "metadata": {
    "colab_type": "text",
    "id": "PmjbhqJzFqsu"
   },
   "source": [
    "The formula for connecting the reduced matrix element of a fine transition with the decay rate:\n",
    "\n",
    "$ \\Gamma_{J_g J_e} = \\frac{\\omega_0^3}{3 \\pi \\epsilon_0 \\hbar c^3}\\frac{2 J_g + 1}{2 J_e + 1} \\left | < J_g || d || J_e > \\right |^2$\n",
    "\n",
    "(Steck quantum optics 7.296)"
   ]
  },
  {
   "cell_type": "code",
   "execution_count": null,
   "metadata": {
    "colab": {},
    "colab_type": "code",
    "id": "Nned58w5Fqsz"
   },
   "outputs": [],
   "source": [
    "def rMatrixElement(omega, Gamma, Jg, Je):\n",
    "    prefactor = 3*np.pi*cnst.epsilon_0*cnst.hbar*cnst.c**3\n",
    "    degeneracyFactor = (2*Je+1)/(2*Jg+1)\n",
    "    return np.sqrt(degeneracyFactor*prefactor*Gamma/omega**3)"
   ]
  },
  {
   "cell_type": "markdown",
   "metadata": {
    "colab_type": "text",
    "id": "xuuI-jzlFqtF"
   },
   "source": [
    "Formula for large detuning optical stark shift (Steck quantum optics 7.485):\n",
    "\n",
    "$\\Delta E^{(0)}(F, m_f; \\omega) = - \\sum_{J'} \\frac{2 \\omega_{J' J} \\left | < J || d || J' > \\right |^2}{3 \\hbar (\\omega^2_{J' J} - \\omega^2)} |E_0^{+}|^2$"
   ]
  },
  {
   "cell_type": "code",
   "execution_count": null,
   "metadata": {
    "colab": {},
    "colab_type": "code",
    "id": "H_9TH2r6FqtH"
   },
   "outputs": [],
   "source": [
    "def OpticalStarkShift2(w_tran, w, Gamma, Jg, Je, I):\n",
    "    Esquared = I*2*cnst.mu_0*cnst.c#In steck this is the positive frequency E field component E_0+\n",
    "    #for which |E_0|^2 = 4 |E_0+|^2\n",
    "    freqFactor = w_tran/(w_tran**2-w**2)\n",
    "    return -2*freqFactor*Esquared*rMatrixElement(w_tran, Gamma, Jg, Je)**2/(3*cnst.hbar)"
   ]
  },
  {
   "cell_type": "markdown",
   "metadata": {
    "colab_type": "text",
    "id": "leMH_iMiIbAf"
   },
   "source": [
    "Using a simplified formula:\n",
    "\n",
    "$\\Delta E^{(0)}(F, m_f; \\omega) = - 4 \\pi c^2 I  \\sum_{J'} \\frac{2 J_e + 1}{2 J_g + 1} \\frac{\\Gamma_{JJ'}}{\\omega_{J J'}^2(\\omega_{J J'}^2 - \\omega^2)} $"
   ]
  },
  {
   "cell_type": "code",
   "execution_count": null,
   "metadata": {
    "colab": {},
    "colab_type": "code",
    "id": "8nKDwiTSFqtV"
   },
   "outputs": [],
   "source": [
    "def OpticalStarkShift(w_tran, w, Gamma, Jg, Je, I):\n",
    "    degeneracyFactor = (2*Je+1)/(2*Jg+1)\n",
    "    freqFactor = w_tran**2*(w_tran**2-w**2)\n",
    "    return -1*degeneracyFactor*4*np.pi*cnst.c**2*Gamma*I/freqFactor\n"
   ]
  },
  {
   "cell_type": "markdown",
   "metadata": {
    "colab_type": "text",
    "id": "pceYEKBOFqtm"
   },
   "source": [
    "D2 and D1 level parameters:"
   ]
  },
  {
   "cell_type": "code",
   "execution_count": null,
   "metadata": {
    "colab": {},
    "colab_type": "code",
    "id": "zzLqL8aiFqto"
   },
   "outputs": [],
   "source": [
    "J_D2 = 3./2\n",
    "w_D2 = 2*np.pi*cnst.c/(l_D2)\n",
    "J_D1 = 1./2\n",
    "w_D1 = 2*np.pi*cnst.c/(l_D1)\n",
    "Jg = 1./2"
   ]
  },
  {
   "cell_type": "code",
   "execution_count": null,
   "metadata": {
    "colab": {},
    "colab_type": "code",
    "id": "kziCyctsFqt2"
   },
   "outputs": [],
   "source": [
    "w_lattice =  2*np.pi*cnst.c/(l_trap)"
   ]
  },
  {
   "cell_type": "code",
   "execution_count": null,
   "metadata": {
    "colab": {},
    "colab_type": "code",
    "id": "_eUhdQfSFquG",
    "outputId": "60ed14a0-5c4f-4f0f-97d4-1c5ea0a02a24"
   },
   "outputs": [
    {
     "data": {
      "text/plain": [
       "1.5414783925505409"
      ]
     },
     "execution_count": 53,
     "metadata": {
      "tags": []
     },
     "output_type": "execute_result"
    }
   ],
   "source": [
    "OpticalStarkShift2(w_D2, w_lattice, Gamma_D2, Jg, J_D2, 2*P/(np.pi*waist**2))/(cnst.h*1e6)"
   ]
  },
  {
   "cell_type": "code",
   "execution_count": null,
   "metadata": {
    "colab": {},
    "colab_type": "code",
    "id": "d9HjSKe3FquY",
    "outputId": "2fdc0d6d-ae33-4e21-ca9a-e15c4ce3f84e"
   },
   "outputs": [
    {
     "data": {
      "text/plain": [
       "0.5031158088060386"
      ]
     },
     "execution_count": 54,
     "metadata": {
      "tags": []
     },
     "output_type": "execute_result"
    }
   ],
   "source": [
    "OpticalStarkShift2(w_D1, w_lattice, Gamma_D1, Jg, J_D1, 2*P/(np.pi*waist**2))/(cnst.h*1e6)"
   ]
  },
  {
   "cell_type": "markdown",
   "metadata": {
    "colab_type": "text",
    "id": "zT9yv05IFquo"
   },
   "source": [
    "Dipole trap:"
   ]
  },
  {
   "cell_type": "code",
   "execution_count": null,
   "metadata": {
    "colab": {},
    "colab_type": "code",
    "id": "larqDsbFFqup"
   },
   "outputs": [],
   "source": [
    "w_dt =  2*np.pi*cnst.c/(l_dt)"
   ]
  },
  {
   "cell_type": "code",
   "execution_count": null,
   "metadata": {
    "colab": {},
    "colab_type": "code",
    "id": "8bAC68k3Fqu4",
    "outputId": "e233ce9b-5514-4f7a-f384-5e02ad4ae22d"
   },
   "outputs": [
    {
     "data": {
      "text/plain": [
       "-16.703141216255155"
      ]
     },
     "execution_count": 60,
     "metadata": {
      "tags": []
     },
     "output_type": "execute_result"
    }
   ],
   "source": [
    "OpticalStarkShift(w_D2, w_dt, Gamma_D2, Jg, J_D2, 2*P_dt/(np.pi*waist_dt**2))/(cnst.h*1e6)"
   ]
  },
  {
   "cell_type": "code",
   "execution_count": null,
   "metadata": {
    "colab": {},
    "colab_type": "code",
    "id": "otlaRJJdFqvI",
    "outputId": "6f72d380-e94c-4d4b-e95a-b91319d48a44"
   },
   "outputs": [
    {
     "data": {
      "text/plain": [
       "-10.82888058413337"
      ]
     },
     "execution_count": 58,
     "metadata": {
      "tags": []
     },
     "output_type": "execute_result"
    }
   ],
   "source": [
    "OpticalStarkShift(w_D1, w_dt, Gamma_D1, Jg, J_D1, 2*P_dt/(np.pi*waist_dt**2))/(cnst.h*1e6)"
   ]
  },
  {
   "cell_type": "markdown",
   "metadata": {
    "colab_type": "text",
    "id": "k-RSn3pkFqvc"
   },
   "source": [
    "## Polarizabilites"
   ]
  },
  {
   "cell_type": "markdown",
   "metadata": {
    "colab_type": "text",
    "id": "dAjF3BXYFqve"
   },
   "source": [
    "Dynamical polarizabilites for Cs from Le Kien, F., Schneeweiss, P. & Rauschenbeutel, A. Eur. Phys. J. D (2013) 67: 92. https://doi.org/10.1140/epjd/e2013-30729-x are:"
   ]
  },
  {
   "cell_type": "markdown",
   "metadata": {
    "colab_type": "text",
    "id": "IQVTvZAFFqvf"
   },
   "source": [
    "At 1064 nm in atomic units:"
   ]
  },
  {
   "cell_type": "code",
   "execution_count": null,
   "metadata": {
    "colab": {},
    "colab_type": "code",
    "id": "fcEqwr18Fqvp"
   },
   "outputs": [],
   "source": [
    "alpha_0_6S = 1164.03491295055 \n",
    "alpha_0_6P32 = -41.5486829891007 \n",
    "alpha_2_6P32 = 527.414918517425 "
   ]
  },
  {
   "cell_type": "markdown",
   "metadata": {
    "colab_type": "text",
    "id": "RZHjQdXFFqv0"
   },
   "source": [
    "Formula for total polarizability: \"Magic wavelengths, matrix elements, polarizabilities, and lifetimes of Cs\"\n",
    "M. S. Safronova, U. I. Safronova, and Charles W. Clark\n",
    "https://journals.aps.org/pra/abstract/10.1103/PhysRevA.94.012505 on page 8, or Steck Quantum Optics Notes eq. 7.477:\n",
    "\n",
    "$\\Delta E = -\\frac{1}{2}\\alpha |E|^2$, with $\\alpha = \\alpha_0 + \\alpha_2\\frac{3m_J^2-J(J+1)}{J(2J-1)}$\n",
    "\n",
    "(this is under the assumption that the light is linearly polarized so there is no vector AC light shift which I don't think is necesarely true in our experiment...)"
   ]
  },
  {
   "cell_type": "markdown",
   "metadata": {
    "colab_type": "text",
    "id": "-VvW71IIFqv5"
   },
   "source": [
    "For $m=3/2$ and $J=3/2$:\n",
    "\n",
    "$\\alpha^{6P_{3/2}} = \\alpha_0^{6P_{3/2}} + \\alpha_2^{6P_{3/2}}$\n",
    "\n",
    "So $(\\Delta E_{6S} - \\Delta E_{6P_{3/2}})/\\Delta E_{6S} = 0.5826$"
   ]
  },
  {
   "cell_type": "code",
   "execution_count": null,
   "metadata": {
    "colab": {},
    "colab_type": "code",
    "id": "Rc0ttO6DFqv7",
    "outputId": "d2ecf6eb-e54a-44ad-e223-2ca4dde4cd8e"
   },
   "outputs": [
    {
     "data": {
      "text/plain": [
       "0.5826016641573322"
      ]
     },
     "execution_count": 11,
     "metadata": {
      "tags": []
     },
     "output_type": "execute_result"
    }
   ],
   "source": [
    "1-(alpha_0_6P32 + alpha_2_6P32)/alpha_0_6S"
   ]
  },
  {
   "cell_type": "markdown",
   "metadata": {
    "colab_type": "text",
    "id": "qwpRZllxFqwO"
   },
   "source": [
    "Shift measured on 7/17:\n"
   ]
  },
  {
   "cell_type": "code",
   "execution_count": null,
   "metadata": {
    "colab": {},
    "colab_type": "code",
    "id": "_jNWmkxqFqwT",
    "outputId": "0d92e20d-c588-4f2d-9182-0c13ee4756f4",
    "scrolled": true
   },
   "outputs": [
    {
     "data": {
      "text/plain": [
       "2.5764499999999932"
      ]
     },
     "execution_count": 14,
     "metadata": {
      "tags": []
     },
     "output_type": "execute_result"
    }
   ],
   "source": [
    "(5.177-4.950)*11.35#in MHz, taken from double passed AOM calibration"
   ]
  },
  {
   "cell_type": "markdown",
   "metadata": {
    "colab_type": "text",
    "id": "NnAyzWepFqwj"
   },
   "source": [
    "So the trap depth is (ground state shift) is:"
   ]
  },
  {
   "cell_type": "code",
   "execution_count": null,
   "metadata": {
    "colab": {},
    "colab_type": "code",
    "id": "7t-vjk0HFqwo",
    "outputId": "6a551036-ca71-4189-ae84-469a0c1cea3c",
    "scrolled": true
   },
   "outputs": [
    {
     "data": {
      "text/plain": [
       "4.4223182982605085"
      ]
     },
     "execution_count": 13,
     "metadata": {
      "tags": []
     },
     "output_type": "execute_result"
    }
   ],
   "source": [
    "2.5764499999999932/0.5826016641573322"
   ]
  },
  {
   "cell_type": "markdown",
   "metadata": {
    "colab_type": "text",
    "id": "6n1vwWlGFqwz"
   },
   "source": [
    "Shift measured on 9/25:"
   ]
  },
  {
   "cell_type": "code",
   "execution_count": null,
   "metadata": {
    "colab": {},
    "colab_type": "code",
    "id": "7C0YPBJAFqw1",
    "outputId": "f4f66281-0eba-4d0a-980a-c3f1fd509d30"
   },
   "outputs": [
    {
     "data": {
      "text/plain": [
       "1.2371499999999997"
      ]
     },
     "execution_count": 1,
     "metadata": {
      "tags": []
     },
     "output_type": "execute_result"
    }
   ],
   "source": [
    "(5.286-5.177)*11.35#in MHz, taken from double passed AOM calibration"
   ]
  },
  {
   "cell_type": "code",
   "execution_count": null,
   "metadata": {
    "colab": {},
    "colab_type": "code",
    "id": "cF4CFbD7FqxB",
    "outputId": "6dae9111-eeb1-4a4f-bc52-a0ace50d0134"
   },
   "outputs": [
    {
     "data": {
      "text/plain": [
       "2.1234920463013065"
      ]
     },
     "execution_count": 2,
     "metadata": {
      "tags": []
     },
     "output_type": "execute_result"
    }
   ],
   "source": [
    "1.2371499999999997/0.5826016641573322"
   ]
  },
  {
   "cell_type": "code",
   "execution_count": null,
   "metadata": {
    "colab": {},
    "colab_type": "code",
    "id": "fkl_bnBbFqxP"
   },
   "outputs": [],
   "source": []
  }
 ],
 "metadata": {
  "colab": {
   "collapsed_sections": [],
   "name": "Trap depth.ipynb",
   "provenance": []
  },
  "kernelspec": {
   "display_name": "Python 3",
   "language": "python",
   "name": "python3"
  },
  "language_info": {
   "codemirror_mode": {
    "name": "ipython",
    "version": 3
   },
   "file_extension": ".py",
   "mimetype": "text/x-python",
   "name": "python",
   "nbconvert_exporter": "python",
   "pygments_lexer": "ipython3",
   "version": "3.7.7"
  }
 },
 "nbformat": 4,
 "nbformat_minor": 1
}
